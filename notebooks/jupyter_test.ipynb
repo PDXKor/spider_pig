{
 "cells": [
  {
   "cell_type": "code",
   "execution_count": null,
   "metadata": {},
   "outputs": [],
   "source": [
    "# setup sqlite connection  \n",
    "import sqlite3\n",
    "import pandas as pd\n",
    "import os\n",
    "\n",
    "c_dir = os.getcwd()\n",
    "p_dir = os.path.dirname(c_dir)\n",
    "db_name = 'race.db'\n",
    "db_fp = os.path.join(p_dir, db_name)\n"
   ]
  },
  {
   "cell_type": "code",
   "execution_count": null,
   "metadata": {},
   "outputs": [],
   "source": [
    "# get results\n",
    "with sqlite3.connect(db_fp) as conn:\n",
    "    # select count from state\n",
    "    df = pd.read_sql_query('SELECT * FROM ResultPosition', conn)\n",
    "    print(df)\n",
    "    "
   ]
  },
  {
   "cell_type": "code",
   "execution_count": null,
   "metadata": {},
   "outputs": [],
   "source": [
    "# get drivers\n",
    "with sqlite3.connect(db_fp) as conn:\n",
    "    # select count from state\n",
    "    df = pd.read_sql_query('SELECT * FROM Driver', conn)\n",
    "    print(df)\n",
    "    "
   ]
  },
  {
   "cell_type": "code",
   "execution_count": null,
   "metadata": {},
   "outputs": [],
   "source": []
  }
 ],
 "metadata": {
  "kernelspec": {
   "display_name": "base",
   "language": "python",
   "name": "python3"
  },
  "language_info": {
   "codemirror_mode": {
    "name": "ipython",
    "version": 3
   },
   "file_extension": ".py",
   "mimetype": "text/x-python",
   "name": "python",
   "nbconvert_exporter": "python",
   "pygments_lexer": "ipython3",
   "version": "3.9.7"
  }
 },
 "nbformat": 4,
 "nbformat_minor": 2
}
